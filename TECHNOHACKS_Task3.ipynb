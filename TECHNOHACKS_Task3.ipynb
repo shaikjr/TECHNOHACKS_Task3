{
 "cells": [
  {
   "cell_type": "code",
   "execution_count": null,
   "id": "2b8b3645-6596-4a33-9e65-1152a47ab9c7",
   "metadata": {},
   "outputs": [],
   "source": [
    "import numpy as np\n",
    "import matplotlib.pyplot as plt  \n",
    "import pandas as pd\n",
    "import seaborn as sns\n",
    "\n",
    "from warnings import filterwarnings\n",
    "filterwarnings(action='ignore')"
   ]
  },
  {
   "cell_type": "code",
   "execution_count": null,
   "id": "e5473b21-31d9-4db4-bc04-faa9546bb127",
   "metadata": {},
   "outputs": [],
   "source": [
    "wine = pd.read_csv(\"C:\\Python\\Python311\\Lib\\site-packages\\winequality-red.csv\")\n",
    "print(\"Successfully Imported Data!\")\n",
    "wine.head()"
   ]
  },
  {
   "cell_type": "code",
   "execution_count": null,
   "id": "e0187fec-bf5c-4854-a613-ad90fbcf3add",
   "metadata": {},
   "outputs": [],
   "source": [
    "print(wine.shape)"
   ]
  },
  {
   "cell_type": "code",
   "execution_count": null,
   "id": "9f87049e-266f-4b01-8a1f-f2d981c929ab",
   "metadata": {},
   "outputs": [],
   "source": [
    "wine.describe(include='all')"
   ]
  },
  {
   "cell_type": "code",
   "execution_count": null,
   "id": "1c9ea5d5-d3fd-4a42-926d-a547b17b97a5",
   "metadata": {},
   "outputs": [],
   "source": [
    "print(wine.isna().sum())"
   ]
  },
  {
   "cell_type": "code",
   "execution_count": null,
   "id": "c03ada13-bce4-4efe-8411-6aefebd9386b",
   "metadata": {},
   "outputs": [],
   "source": [
    "wine.corr()"
   ]
  },
  {
   "cell_type": "code",
   "execution_count": null,
   "id": "b5c52e91-195d-4df0-aa58-1c8198df3fbb",
   "metadata": {},
   "outputs": [],
   "source": [
    "wine.groupby('quality').mean()"
   ]
  },
  {
   "cell_type": "code",
   "execution_count": null,
   "id": "8581a5ce-0d20-4e78-8d30-e0e0f323eb8d",
   "metadata": {},
   "outputs": [],
   "source": [
    "#sns.countplot(wine['quality'])\n",
    "#plt.show()\n",
    "sns.countplot(data=wine, x='quality')\n",
    "plt.show()"
   ]
  },
  {
   "cell_type": "code",
   "execution_count": null,
   "id": "17ff58d6-dfbc-4238-ac01-21c64e727384",
   "metadata": {},
   "outputs": [],
   "source": [
    "sns.countplot(data=wine, x='pH')\n",
    "plt.show()"
   ]
  },
  {
   "cell_type": "code",
   "execution_count": null,
   "id": "62bc4066-7e6b-4a09-96e3-e5945cc9e5b6",
   "metadata": {},
   "outputs": [],
   "source": [
    "sns.countplot(data=wine, x='alcohol')\n",
    "plt.show()"
   ]
  },
  {
   "cell_type": "code",
   "execution_count": null,
   "id": "7d35da86-12b6-461e-bab1-028b8e89dec8",
   "metadata": {},
   "outputs": [],
   "source": [
    "sns.countplot(data=wine, x='fixed acidity')\n",
    "plt.show()"
   ]
  },
  {
   "cell_type": "code",
   "execution_count": null,
   "id": "72e4eded-581c-41df-b5a3-b8e30837108a",
   "metadata": {},
   "outputs": [],
   "source": [
    "sns.countplot(data=wine, x='volatile acidity')\n",
    "plt.show()"
   ]
  },
  {
   "cell_type": "code",
   "execution_count": null,
   "id": "85ca58f3-5a82-4fae-91b3-cfb72c4a3c68",
   "metadata": {},
   "outputs": [],
   "source": [
    "sns.countplot(data=wine, x='density')\n",
    "plt.show()"
   ]
  },
  {
   "cell_type": "code",
   "execution_count": null,
   "id": "e2e7b23b-83cc-4f43-bcf8-369fe51b843d",
   "metadata": {},
   "outputs": [],
   "source": [
    "sns.kdeplot(wine.query('quality > 2').quality)"
   ]
  },
  {
   "cell_type": "code",
   "execution_count": null,
   "id": "a96b7da6-f8fc-4c3e-b793-7dd70a591374",
   "metadata": {},
   "outputs": [],
   "source": [
    "sns.distplot(wine['alcohol'])"
   ]
  },
  {
   "cell_type": "code",
   "execution_count": null,
   "id": "02fdc8dc-bd49-4f1e-86c9-592a96674fc4",
   "metadata": {},
   "outputs": [],
   "source": [
    "wine.plot(kind ='box',subplots = True, layout =(4,4),sharex = False)"
   ]
  },
  {
   "cell_type": "code",
   "execution_count": null,
   "id": "92c9ce22-1cc5-453b-9f7a-ad16ac7734a1",
   "metadata": {},
   "outputs": [],
   "source": [
    "wine.plot(kind ='density',subplots = True, layout =(4,4),sharex = False)"
   ]
  },
  {
   "cell_type": "code",
   "execution_count": null,
   "id": "66708d10-a411-46eb-8b49-1875410b5842",
   "metadata": {},
   "outputs": [],
   "source": [
    "wine.hist(figsize=(10,10),bins=50)\n",
    "plt.show()"
   ]
  },
  {
   "cell_type": "code",
   "execution_count": null,
   "id": "919190a1-18c9-49c1-a1d5-5a0e8bb39ed5",
   "metadata": {},
   "outputs": [],
   "source": [
    "wine['goodquality'] = [1 if x >= 7 else 0 for x in wine['quality']]# Separate feature variables and target variable\n",
    "X = wine.drop(['quality','goodquality'], axis = 1)\n",
    "Y = wine['goodquality']"
   ]
  },
  {
   "cell_type": "code",
   "execution_count": null,
   "id": "5c61af77-3903-4415-b28a-2c1027f29e5e",
   "metadata": {},
   "outputs": [],
   "source": [
    "wine['goodquality'].value_counts()"
   ]
  },
  {
   "cell_type": "code",
   "execution_count": null,
   "id": "e76c6e6c-b73a-4d71-9f2d-39a11dcdb845",
   "metadata": {},
   "outputs": [],
   "source": [
    "X"
   ]
  },
  {
   "cell_type": "code",
   "execution_count": null,
   "id": "15213563-e49d-4fe7-9d1c-42fc8cb7b1bb",
   "metadata": {},
   "outputs": [],
   "source": [
    "print(Y)"
   ]
  }
 ],
 "metadata": {
  "kernelspec": {
   "display_name": "Python 3 (ipykernel)",
   "language": "python",
   "name": "python3"
  },
  "language_info": {
   "codemirror_mode": {
    "name": "ipython",
    "version": 3
   },
   "file_extension": ".py",
   "mimetype": "text/x-python",
   "name": "python",
   "nbconvert_exporter": "python",
   "pygments_lexer": "ipython3",
   "version": "3.11.4"
  }
 },
 "nbformat": 4,
 "nbformat_minor": 5
}
